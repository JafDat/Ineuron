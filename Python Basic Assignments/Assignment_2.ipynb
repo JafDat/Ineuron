{
 "cells": [
  {
   "cell_type": "markdown",
   "id": "d951796e",
   "metadata": {},
   "source": [
    "**1.What are the two values of the Boolean data type? How do you write them?**\n",
    "\n",
    "* True \n",
    "* False\n"
   ]
  },
  {
   "cell_type": "markdown",
   "id": "136de8fd",
   "metadata": {},
   "source": [
    "**2. What are the three different types of Boolean operators?**\n",
    "\n",
    "* AND \n",
    "* OR\n",
    "* NOT"
   ]
  },
  {
   "cell_type": "markdown",
   "id": "d3c327ed",
   "metadata": {},
   "source": [
    "**3. Make a list of each Boolean operator's truth tables (i.e. every possible combination of Boolean values for the operator and what it evaluate ).**\n",
    "\n",
    "* AND\n",
    "\n",
    "| A\t| B\t | O |\n",
    "| --- | --- | --- |\n",
    "|0\t|0\t|0|\n",
    "|0\t|1\t|0|\n",
    "|1\t|0\t|0|\n",
    "|1\t|1\t|1|\n",
    "\n",
    "* OR\n",
    "\n",
    "|A|\tB|\tO|\n",
    "| --- | --- | --- |\n",
    "|0 |0\t|0|\n",
    "|0 |1\t|1|\n",
    "|1 |0\t|1|\n",
    "|1 |1\t|1|\n",
    "\n",
    "* NOT\n",
    "|A\t|O|\n",
    "| --- | --- |\n",
    "|0\t|1|\n",
    "|1\t|0|\n",
    "<br>"
   ]
  },
  {
   "cell_type": "markdown",
   "id": "0452a3a7",
   "metadata": {},
   "source": [
    "**4. What are the values of the following expressions?**\n",
    "\n",
    "* (5 > 4) and (3 == 5)  -> False\n",
    "* not (5 > 4) -> False\n",
    "* (5 > 4) or (3 == 5) -> True\n",
    "* not ((5 > 4) or (3 == 5)) -> False\n",
    "* (True and True) and (True == False) -> False\n",
    "* (not False) or (not True) -> True"
   ]
  },
  {
   "cell_type": "markdown",
   "id": "181bb78a",
   "metadata": {},
   "source": [
    "**5. What are the six comparison operators?**\n",
    "\n",
    "* less than\n",
    "* greater than\n",
    "* less than or equal to\n",
    "* greater than or equal to\n",
    "* equal to\n",
    "* and not equal to"
   ]
  },
  {
   "cell_type": "markdown",
   "id": "ba08b7a0",
   "metadata": {},
   "source": [
    "**6.How do you tell the difference between the equal to and assignment operators?Describe a condition and when you would use one.**\n",
    "\n",
    "Assignment operator requires one variable on its left and an expression on its right. Value of the expression on right is assigned to variable on left. Expression and name of variable are not interchangeable E.g: a= 10\n",
    "<br>\n",
    "Equal to operator returns true if operands on either side are equal, otherwise it returns false\n",
    "E.g : a==10"
   ]
  },
  {
   "cell_type": "markdown",
   "id": "5c401426",
   "metadata": {},
   "source": [
    "**7. Identify the three blocks in this code:**\n",
    "`spam = 0\n",
    "if spam == 10:\n",
    "    print('eggs')\n",
    "if spam > 5:\n",
    "    print('bacon')\n",
    "else:\n",
    "    print('ham')\n",
    "    print('spam')\n",
    "    print('spam')`"
   ]
  },
  {
   "cell_type": "code",
   "execution_count": 3,
   "id": "093c82e7",
   "metadata": {},
   "outputs": [
    {
     "name": "stdout",
     "output_type": "stream",
     "text": [
      "ham\n",
      "spam\n",
      "spam\n"
     ]
    }
   ],
   "source": [
    "spam = 0\n",
    "if spam == 10:\n",
    "    print('eggs')\n",
    "if spam > 5:\n",
    "    print('bacon')\n",
    "else:\n",
    "    print('ham')\n",
    "    print('spam')\n",
    "    print('spam')\n"
   ]
  },
  {
   "cell_type": "markdown",
   "id": "044b10e7",
   "metadata": {},
   "source": [
    "**8. Write code that prints Hello if 1 is stored in spam, prints Howdy if 2 is stored in spam, and prints Greetings! if anything else is stored in spam.**"
   ]
  },
  {
   "cell_type": "code",
   "execution_count": 4,
   "id": "5d901773",
   "metadata": {},
   "outputs": [
    {
     "name": "stdout",
     "output_type": "stream",
     "text": [
      "Hello\n"
     ]
    }
   ],
   "source": [
    "spam = 1\n",
    "if spam == 1 :\n",
    "    print(\"Hello\")\n",
    "elif spam == 2:\n",
    "    print(\"Howdy\")\n",
    "else:\n",
    "    print(\"Greetings!\")"
   ]
  },
  {
   "cell_type": "markdown",
   "id": "2e6dd801",
   "metadata": {},
   "source": [
    "**9.If your programme is stuck in an endless loop, what keys you’ll press?**\n",
    "\n",
    "CTRL+C\n"
   ]
  },
  {
   "cell_type": "markdown",
   "id": "53970861",
   "metadata": {},
   "source": [
    "**10. How can you tell the difference between break and continue?**\n",
    "\n",
    "The main difference between both the statements is that when break keyword comes, it terminates the execution of the current loop and passes the control over the next loop or main body, whereas when continue keyword is encountered, it skips the current iteration and executes the very next iteration in the loop."
   ]
  },
  {
   "cell_type": "markdown",
   "id": "4535916c",
   "metadata": {},
   "source": [
    "**11. In a for loop, what is the difference between range(10), range(0, 10), and range(0, 10, 1)?**\n",
    "\n",
    "* range(stop) takes one argument. \n",
    "* range(start, stop) takes two arguments.\n",
    "* range(start, stop, step) takes three arguments."
   ]
  },
  {
   "cell_type": "markdown",
   "id": "c072dd49",
   "metadata": {},
   "source": [
    "**12. Write a short program that prints the numbers 1 to 10 using a for loop. Then write an equivalent program that prints the numbers 1 to 10 using a while loop.**"
   ]
  },
  {
   "cell_type": "code",
   "execution_count": 6,
   "id": "8bcdfe1a",
   "metadata": {},
   "outputs": [
    {
     "name": "stdout",
     "output_type": "stream",
     "text": [
      "1 2 3 4 5 6 7 8 9 10 "
     ]
    }
   ],
   "source": [
    "for i in range(1,11):\n",
    "    print(i,end=\" \")"
   ]
  },
  {
   "cell_type": "code",
   "execution_count": 8,
   "id": "9e83d6f2",
   "metadata": {},
   "outputs": [
    {
     "name": "stdout",
     "output_type": "stream",
     "text": [
      "1 2 3 4 5 6 7 8 9 10 "
     ]
    }
   ],
   "source": [
    "i = 1\n",
    "while i <=10:\n",
    "    print(i,end=\" \")\n",
    "    i += 1"
   ]
  },
  {
   "cell_type": "markdown",
   "id": "f2598dc3",
   "metadata": {},
   "source": [
    "**13. If you had a function named bacon() inside a module named spam, how would you call it after importing spam?**\n",
    "\n",
    "```python\n",
    "import spam\n",
    "spam.bacon()\n",
    "```\n",
    "`(or)`\n",
    "\n",
    " ```python\n",
    "from spam import bacon\n",
    "bacon()\n",
    "```\n",
    "    "
   ]
  }
 ],
 "metadata": {
  "kernelspec": {
   "display_name": "Python 3",
   "language": "python",
   "name": "python3"
  },
  "language_info": {
   "codemirror_mode": {
    "name": "ipython",
    "version": 3
   },
   "file_extension": ".py",
   "mimetype": "text/x-python",
   "name": "python",
   "nbconvert_exporter": "python",
   "pygments_lexer": "ipython3",
   "version": "3.8.8"
  }
 },
 "nbformat": 4,
 "nbformat_minor": 5
}
