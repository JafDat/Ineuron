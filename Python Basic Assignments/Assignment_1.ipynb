{
 "cells": [
  {
   "cell_type": "markdown",
   "metadata": {},
   "source": [
    "<br>\n",
    "\n",
    "**1. In the below elements which of them are values or an expression? eg:- values can be integer or string and expressions will be mathematical operators.**\n",
    "<br>\n",
    "<br>\n",
    "  `* `  --> expression\n",
    " <br>\n",
    "`'hello'` -->values\n",
    "<br>\n",
    "`-87.8`  -->values\n",
    "<br>\n",
    "`-`     --> expression\n",
    "<br>\n",
    "`/ ` -->expression\n",
    "<br>\n",
    "`+`  -->expression\n",
    "<br>\n",
    "`6 `  --> values\n",
    "\n"
   ]
  },
  {
   "cell_type": "markdown",
   "metadata": {},
   "source": [
    "**2. What is the difference between string and variable?**\n",
    "\n",
    "* Variables are references to values that have datatypes. \n",
    "* String is one of the data type in python (i.e., other datatypes are integer, float, list, sets. tuples, dictionary).\n",
    "<br>\n",
    "Example:\n",
    "<br>\n",
    "x = \"Hello\"\n",
    "<br>\n",
    "Here x is the variable and \"hello\" is the string.\n",
    "\n"
   ]
  },
  {
   "cell_type": "markdown",
   "metadata": {},
   "source": [
    "**3. Describe three different data types.**\n",
    "<br>\n",
    "<br>\n",
    "**Integers :** \n",
    "<br>\n",
    "Integer is represented by int class. It may contain positive or negative whole numbers (without fraction or decimal). In Python there is no limit to how long an integer value can be.\n",
    "<br>\n",
    "**String :**\n",
    "A string is a collection of one or more characters put in a single quote, double-quote or triple quote. In python there is no character data type, a character is a string of length one. It is represented by str class.\n",
    "<br>\n",
    "**Lists :**\n",
    "<br>\n",
    "Lists are just like the arrays, declared in other languages which is a ordered collection of data. It is very flexible as the items in a list do not need to be of the same type.\n",
    "\n"
   ]
  },
  {
   "cell_type": "markdown",
   "metadata": {},
   "source": [
    "**4. What is an expression made up of? What do all expressions do?**\n",
    "<br>\n",
    "* Expressions are representations of value. \n",
    "* They are different from statement in the fact that statements do something while expressions are representation of value. \n",
    "* Expressions can do may operations like arithmetic operation, logical operations and so on.\n",
    "* Python expressions only contain identifiers, literals, and operators.\n",
    "*Operators [E.g ., add\t+ ,subtract\t-,multiply\t*, power\t**, Integer Division\t/, remainder\t%]\n",
    "\n"
   ]
  },
  {
   "cell_type": "markdown",
   "metadata": {},
   "source": [
    "**5. This assignment statements, like spam = 10. What is the difference between an expression and a statement?**\n",
    "<br>\n",
    "`spam = 10`\n",
    "<br>\n",
    "Like above spam = 10 is an assignment statement whereas `spam = 10+2` is an expression\n"
   ]
  },
  {
   "cell_type": "markdown",
   "metadata": {},
   "source": [
    "**6. After running the following code, what does the variable bacon contain?**\n",
    "<br>\n",
    "`bacon = 22`\n",
    "<br>\n",
    "`bacon + 1`"
   ]
  },
  {
   "cell_type": "code",
   "execution_count": 4,
   "metadata": {
    "scrolled": true
   },
   "outputs": [
    {
     "name": "stdout",
     "output_type": "stream",
     "text": [
      "23\n",
      "The value of bacon is  22\n"
     ]
    }
   ],
   "source": [
    "bacon = 22\n",
    "print(bacon + 1)\n",
    "print(\"The value of bacon is \",bacon)\n"
   ]
  },
  {
   "cell_type": "markdown",
   "metadata": {},
   "source": [
    "**Ans :**\n",
    "<br>\n",
    "The variable bacon contain 22 as value ."
   ]
  },
  {
   "cell_type": "markdown",
   "metadata": {},
   "source": [
    "**7. What should the values of the following two terms be?**\n",
    "<br>\n",
    "`'spam' + 'spamspam'`\n",
    "<br>\n",
    "`'spam' * 3`"
   ]
  },
  {
   "cell_type": "code",
   "execution_count": 7,
   "metadata": {},
   "outputs": [
    {
     "name": "stdout",
     "output_type": "stream",
     "text": [
      "The value of 'spam' + 'spamspam' is : spamspamspam\n",
      "The value of 'spam' * 3 is :  spamspamspam\n"
     ]
    }
   ],
   "source": [
    "print(\"The value of 'spam' + 'spamspam' is :\",'spam' + 'spamspam')\n",
    "print(\"The value of 'spam' * 3 is : \",'spam' * 3)"
   ]
  },
  {
   "cell_type": "markdown",
   "metadata": {},
   "source": [
    "**8. Why is eggs a valid variable name while 100 is invalid?**\n",
    "<br>\n",
    "Variables names must start with a letter or an underscore . So eggs can be set as a variable and 100 not(i.e., It will through an error `SyntaxError: cannot assign to literal`)."
   ]
  },
  {
   "cell_type": "markdown",
   "metadata": {},
   "source": [
    "**9. What three functions can be used to get the integer, floating-point number, or string version of a value?**\n",
    "* `int()` --> used to typecast into integer\n",
    "* `float()` --> used to typecast into float\n",
    "* `str()` --> used to type cast to string"
   ]
  },
  {
   "cell_type": "code",
   "execution_count": 11,
   "metadata": {},
   "outputs": [
    {
     "name": "stdout",
     "output_type": "stream",
     "text": [
      "2 <class 'int'>\n",
      "2.0 <class 'float'>\n",
      "2 <class 'str'>\n"
     ]
    }
   ],
   "source": [
    "print(int(2.5),type(int(2.5)))\n",
    "print(float(2),type(float(2)))\n",
    "print(str(2),type(str(2)))"
   ]
  },
  {
   "cell_type": "markdown",
   "metadata": {},
   "source": [
    "**10. Why does this expression cause an error? How can you fix it?**\n",
    "<br>\n",
    "`'I have eaten ' + 99 + ' burritos.'`"
   ]
  },
  {
   "cell_type": "code",
   "execution_count": 12,
   "metadata": {},
   "outputs": [
    {
     "ename": "TypeError",
     "evalue": "can only concatenate str (not \"int\") to str",
     "output_type": "error",
     "traceback": [
      "\u001b[1;31m---------------------------------------------------------------------------\u001b[0m",
      "\u001b[1;31mTypeError\u001b[0m                                 Traceback (most recent call last)",
      "\u001b[1;32m<ipython-input-12-d24137131a5c>\u001b[0m in \u001b[0;36m<module>\u001b[1;34m\u001b[0m\n\u001b[1;32m----> 1\u001b[1;33m \u001b[1;34m'I have eaten '\u001b[0m \u001b[1;33m+\u001b[0m \u001b[1;36m99\u001b[0m \u001b[1;33m+\u001b[0m \u001b[1;34m' burritos.'\u001b[0m\u001b[1;33m\u001b[0m\u001b[1;33m\u001b[0m\u001b[0m\n\u001b[0m",
      "\u001b[1;31mTypeError\u001b[0m: can only concatenate str (not \"int\") to str"
     ]
    }
   ],
   "source": [
    "'I have eaten ' + 99 + ' burritos.'"
   ]
  },
  {
   "cell_type": "markdown",
   "metadata": {},
   "source": [
    "It is because 99 in expression is in integer type and can't concatenate into string. This can be fixed by changing 99 into string by typecasting into string or put 99 in quotes."
   ]
  },
  {
   "cell_type": "code",
   "execution_count": 13,
   "metadata": {},
   "outputs": [
    {
     "data": {
      "text/plain": [
       "'I have eaten 99 burritos.'"
      ]
     },
     "execution_count": 13,
     "metadata": {},
     "output_type": "execute_result"
    }
   ],
   "source": [
    "'I have eaten ' + '99' + ' burritos.'"
   ]
  }
 ],
 "metadata": {
  "kernelspec": {
   "display_name": "Python 3",
   "language": "python",
   "name": "python3"
  },
  "language_info": {
   "codemirror_mode": {
    "name": "ipython",
    "version": 3
   },
   "file_extension": ".py",
   "mimetype": "text/x-python",
   "name": "python",
   "nbconvert_exporter": "python",
   "pygments_lexer": "ipython3",
   "version": "3.8.5"
  }
 },
 "nbformat": 4,
 "nbformat_minor": 4
}
