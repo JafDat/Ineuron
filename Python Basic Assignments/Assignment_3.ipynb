{
 "cells": [
  {
   "cell_type": "markdown",
   "id": "80db9f8a",
   "metadata": {},
   "source": [
    "**1. Why are functions advantageous to have in your programs?**\n",
    "\n",
    "* Reducing duplication of code.\n",
    "* Decomposing complex problems into simpler pieces.\n",
    "* Improving clarity of the code.\n",
    "* Reuse of code.\n",
    "* Information hiding."
   ]
  },
  {
   "cell_type": "markdown",
   "id": "fd7f03b4",
   "metadata": {},
   "source": [
    "**2. When does the code in a function run: when it's specified or when it's called?**\n",
    "<br>\n",
    "The function will run when it is called"
   ]
  },
  {
   "cell_type": "markdown",
   "id": "f4cfce93",
   "metadata": {},
   "source": [
    "**3. What statement creates a function?**\n",
    "<br>\n",
    "<br>\n",
    "def statement"
   ]
  },
  {
   "cell_type": "markdown",
   "id": "60002bb0",
   "metadata": {},
   "source": [
    "**4. What is the difference between a function and a function call?**\n",
    "<br>\n",
    "A function is a block of code that does a particular operation and returns a result. It usually accepts inputs as parameters and returns a result. The parameters are not mandatory.\n",
    "\n",
    "E.g:\n",
    "```python\n",
    "def add(a,b):\n",
    "return a+ b\n",
    "```\n",
    "\n",
    "A function call is the code used to pass control to a function.\n",
    "\n",
    "E.g.:\n",
    "```python\n",
    "b = add(5,6)\n",
    "```"
   ]
  },
  {
   "cell_type": "markdown",
   "id": "9aee9b3d",
   "metadata": {},
   "source": [
    "**5. How many global scopes are there in a Python program? How many local scopes?**\n",
    "<br>\n",
    "There is one global scope, and a local scope is created whenever a function\n",
    "is called."
   ]
  },
  {
   "cell_type": "markdown",
   "id": "de2a1c56",
   "metadata": {},
   "source": [
    "**6. What happens to variables in a local scope when the function call returns?**\n",
    "<br>\n",
    "When a function returns, the local scope is destroyed, and all the variables in it are forgotten."
   ]
  },
  {
   "cell_type": "markdown",
   "id": "cd2515ec",
   "metadata": {},
   "source": [
    "**7. What is the concept of a return value? Is it possible to have a return value in an expression?**\n",
    "<br>\n",
    "<br>\n",
    "A return value is the value that a function call evaluates to. Like anyvalue, a return value can be used as part of an expression."
   ]
  },
  {
   "cell_type": "markdown",
   "id": "7b6d6ff5",
   "metadata": {},
   "source": [
    "**8. If a function does not have a return statement, what is the return value of a call to that function?**\n",
    "<br>\n",
    "<br>\n",
    "None"
   ]
  },
  {
   "cell_type": "markdown",
   "id": "edd069e6",
   "metadata": {},
   "source": [
    "**9. How do you make a function variable refer to the global variable?**\n",
    "<br>\n",
    "`global` statement will force a variable in a function to refer to theglobal variable."
   ]
  },
  {
   "cell_type": "markdown",
   "id": "f6f38462",
   "metadata": {},
   "source": [
    "**10. What is the data type of None?**\n",
    "<br>\n",
    "<br>\n",
    "It is a data type of the class NoneType"
   ]
  },
  {
   "cell_type": "markdown",
   "id": "ec885156",
   "metadata": {},
   "source": [
    "**11. What does the sentence import areallyourpetsnamederic do?**\n",
    "<br>\n",
    "<br>\n",
    "That import statement imports a module named areallyourpetsnamederic.This isn’t a real Python module, by the way."
   ]
  },
  {
   "cell_type": "markdown",
   "id": "c5b749e0",
   "metadata": {},
   "source": [
    "**12. If you had a bacon() feature in a spam module, what would you call it after importing spam?**\n",
    "<br>\n",
    "<br>\n",
    "This function can be called with spam.bacon()"
   ]
  },
  {
   "cell_type": "markdown",
   "id": "21af8026",
   "metadata": {},
   "source": [
    "**13. What can you do to save a programme from crashing if it encounters an error?**\n",
    "<br>\n",
    "Keep the  line of code that might cause an error in a try clause"
   ]
  },
  {
   "cell_type": "markdown",
   "id": "8ae6d118",
   "metadata": {},
   "source": [
    "**14. What is the purpose of the try clause? What is the purpose of the except clause?**\n",
    "\n",
    "* The code that could potentially cause an error goes in the try clause.\n",
    "* The code that executes if an error happens goes in the except clause."
   ]
  }
 ],
 "metadata": {
  "kernelspec": {
   "display_name": "Python 3",
   "language": "python",
   "name": "python3"
  },
  "language_info": {
   "codemirror_mode": {
    "name": "ipython",
    "version": 3
   },
   "file_extension": ".py",
   "mimetype": "text/x-python",
   "name": "python",
   "nbconvert_exporter": "python",
   "pygments_lexer": "ipython3",
   "version": "3.8.8"
  }
 },
 "nbformat": 4,
 "nbformat_minor": 5
}
